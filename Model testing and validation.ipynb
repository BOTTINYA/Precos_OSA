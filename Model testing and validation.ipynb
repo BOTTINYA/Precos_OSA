{
 "cells": [
  {
   "cell_type": "code",
   "execution_count": 7,
   "metadata": {},
   "outputs": [],
   "source": [
    "import xgboost as xgb\n",
    "\n",
    "from sklearn.model_selection import train_test_split\n",
    "from sklearn.model_selection import GridSearchCV\n",
    "from sklearn.metrics import r2_score\n",
    "\n",
    "import preprocessing\n",
    "import data\n",
    "import metrics\n",
    "import parameters\n",
    "import functions\n",
    "\n",
    "from time import time\n",
    "\n",
    "import shap\n",
    "import matplotlib.pyplot as plt\n",
    "\n",
    "import joblib\n",
    "\n",
    "import pandas as pd\n",
    "import numpy as np"
   ]
  },
  {
   "cell_type": "code",
   "execution_count": 8,
   "metadata": {},
   "outputs": [],
   "source": [
    "#Data extraction for training model\n",
    "df = data.data_extraction.BDD_Promo('csv')\n",
    "#Data Cleaning\n",
    "df = preprocessing.training_set_preprocessing.training_set_cleaning(df)"
   ]
  },
  {
   "cell_type": "code",
   "execution_count": 9,
   "metadata": {},
   "outputs": [],
   "source": [
    "def train_validate_model(df):\n",
    "    #Get data\n",
    "    X, feature_names = preprocessing.training_set_preprocessing.preco_features(df)\n",
    "    y, _ = preprocessing.training_set_preprocessing.preco_target(df)\n",
    "    \n",
    "    \n",
    "    #split train, validation and testing data\n",
    "    #cette partie pourra être remplacée par un CV de la librairie sklearn à posteriori\n",
    "    X_train, X_valid, y_train, y_valid = train_test_split(X, y, test_size = 0.999, random_state=42)\n",
    "    X_train, X_test, y_train, y_test = train_test_split(X_train, y_train, test_size = 0.15, random_state=38)\n",
    "    \n",
    "    _,features = preprocessing.training_set_preprocessing.preco_features(df)\n",
    "\n",
    "\n",
    "\n",
    "    #Reconstructing data Matrix for Model training\n",
    "    dtrain = xgb.DMatrix(X_train[features], y_train)\n",
    "    dvalid = xgb.DMatrix(X_valid[features], y_valid)\n",
    "\n",
    "    watchlist = [(dtrain, 'train'), (dvalid, 'eval')]\n",
    "    \n",
    "    \n",
    "    \n",
    "    htuning = input('Do you want to perform hyperparameter tuning ? (Y/n)')\n",
    "    if htuning == 'Y':\n",
    "        #Model tuning\n",
    "        print(\"Performing Grid Search on the model\")\n",
    "        gbm = xgb.XGBRegressor()\n",
    "\n",
    "        reg = GridSearchCV(gbm, param_grid = xgb_grid, cv = 3, verbose = 2, n_jobs = -1)\n",
    "        reg.fit(X_train,y_train)\n",
    "        \n",
    "        gbm = xgb.train(reg.best_params_, dtrain, num_boost_round = parameters.num_boost_round, evals=watchlist, early_stopping_rounds=parameters.early_stopping_rounds, verbose_eval=50) \n",
    "        \n",
    "    else:\n",
    "        #Model training\n",
    "        print(\"Training a XGBoost model\")\n",
    "        gbm = xgb.train(parameters.xgb_params, dtrain, num_boost_round = parameters.num_boost_round, evals=watchlist, early_stopping_rounds=parameters.early_stopping_rounds, verbose_eval=50)\n",
    "    \n",
    "\n",
    "    \n",
    "    \n",
    "    #Print performance metrics\n",
    "    print(\"\\nPerformance on  training set\")\n",
    "    dtest = xgb.DMatrix(X_train[features])\n",
    "    test_probs = gbm.predict(dtrain)\n",
    "    error_test = metrics.rmspe(y_train.Ventes.values, test_probs)\n",
    "    R_squarred = r2_score(y_train.Ventes.values, test_probs)\n",
    "    adj_2 = metrics.adjusted_r2(feature_names,y_train.Ventes.values, test_probs)\n",
    "    print('RMSPE: {:.6f}'.format(error_test))\n",
    "    print('R Squarred: {:.6f}'.format(R_squarred))\n",
    "    print('R Squarred (adj): {:.6f}'.format(adj_2))\n",
    "    \n",
    "    print(\"\\nPerformance on Validation set\")\n",
    "    yhat = gbm.predict(xgb.DMatrix(X_valid[features]))\n",
    "    error = metrics.rmspe(y_valid.Ventes.values, yhat)\n",
    "    R_squarred = r2_score(y_valid.Ventes.values, yhat)\n",
    "    adj_2 = metrics.adjusted_r2(feature_names,y_valid.Ventes.values, yhat)\n",
    "    print('RMSPE: {:.6f}'.format(error_test))\n",
    "    print('R Squarred: {:.6f}'.format(R_squarred))\n",
    "    print('R Squarred (adj): {:.6f}'.format(adj_2))\n",
    "    \n",
    "    \n",
    "\n",
    "    print(\"\\nPerformance on test set\")\n",
    "    dtest = xgb.DMatrix(X_test[features])\n",
    "    test_probs = gbm.predict(dtest)\n",
    "    error_test = metrics.rmspe(y_test.Ventes.values, test_probs)\n",
    "    R_squarred = r2_score(y_test.Ventes.values, test_probs)\n",
    "    adj_2 = metrics.adjusted_r2(feature_names,y_test.Ventes.values, test_probs)\n",
    "    print('RMSPE: {:.6f}'.format(error_test))\n",
    "    print('R Squarred: {:.6f}'.format(R_squarred))\n",
    "    print('R Squarred (adj): {:.6f}'.format(adj_2))\n",
    "    \n",
    "    \n",
    "    \n",
    "    # Evaluation metrics\n",
    "    #------------------- Plot feature importances ----------------\n",
    "    xgb.plot_importance(booster = gbm, show_values = False, importance_type = 'gain')\n",
    "    plt.show()\n",
    "    \n",
    "    # ------------------- Perform SHAP Analysis on training data --------------------\n",
    "    #SHAP_Analysis(gbm, X_train, y_train, feature_names)\n",
    "    \n",
    "    \n",
    "    \n",
    "    if (htuning == 'Y'):\n",
    "        ask_save_params = input('Do you want to save these hyperparameters ? (Y/n)')\n",
    "        if (ask_save_params == 'Y'):\n",
    "            functions.save_obj(reg.best_params_, 'xgb_params' )\n",
    "   \n",
    "        \n",
    "\n",
    "    return gbm, watchlist"
   ]
  },
  {
   "cell_type": "code",
   "execution_count": 10,
   "metadata": {},
   "outputs": [
    {
     "name": "stdin",
     "output_type": "stream",
     "text": [
      "Do you want to perform hyperparameter tuning ? (Y/n) n\n"
     ]
    },
    {
     "name": "stdout",
     "output_type": "stream",
     "text": [
      "Training a XGBoost model\n",
      "[0]\ttrain-rmse:163.388\teval-rmse:177.172\n",
      "Multiple eval metrics have been passed: 'eval-rmse' will be used for early stopping.\n",
      "\n",
      "Will train until eval-rmse hasn't improved in 100 rounds.\n",
      "[50]\ttrain-rmse:24.1925\teval-rmse:123.22\n",
      "[99]\ttrain-rmse:11.6287\teval-rmse:122.671\n",
      "\n",
      "Performance on  training set\n",
      "RMSPE: 8.465237\n",
      "R Squarred: 0.993341\n",
      "R Squarred (adj): 0.993010\n",
      "\n",
      "Performance on Validation set\n",
      "RMSPE: 8.465237\n",
      "R Squarred: 0.324782\n",
      "R Squarred (adj): 0.324755\n",
      "\n",
      "Performance on test set\n",
      "RMSPE: 59.329255\n",
      "R Squarred: 0.343210\n",
      "R Squarred (adj): 0.099260\n"
     ]
    },
    {
     "data": {
      "image/png": "[encoded data removed]",
      "text/plain": [
       "<Figure size 432x288 with 1 Axes>"
      ]
     },
     "metadata": {
      "needs_background": "light"
     },
     "output_type": "display_data"
    },
    {
     "data": {
      "text/plain": [
       "(<xgboost.core.Booster at 0x7f35ad0e9390>,\n",
       " [(<xgboost.core.DMatrix at 0x7f35ad0e9e10>, 'train'),\n",
       "  (<xgboost.core.DMatrix at 0x7f35ad0e98d0>, 'eval')])"
      ]
     },
     "execution_count": 10,
     "metadata": {},
     "output_type": "execute_result"
    }
   ],
   "source": [
    "train_validate_model(df)"
   ]
  },
  {
   "cell_type": "code",
   "execution_count": null,
   "metadata": {},
   "outputs": [],
   "source": []
  }
 ],
 "metadata": {
  "kernelspec": {
   "display_name": "Python 3",
   "language": "python",
   "name": "python3"
  },
  "language_info": {
   "codemirror_mode": {
    "name": "ipython",
    "version": 3
   },
   "file_extension": ".py",
   "mimetype": "text/x-python",
   "name": "python",
   "nbconvert_exporter": "python",
   "pygments_lexer": "ipython3",
   "version": "3.5.3"
  }
 },
 "nbformat": 4,
 "nbformat_minor": 2
}
